{
 "cells": [
  {
   "cell_type": "code",
   "execution_count": 1,
   "metadata": {},
   "outputs": [],
   "source": [
    "import pandas as pd\n",
    "import seaborn as sn\n",
    "import matplotlib.pyplot as plt\n",
    "#from sklearn.linear_model import LinearRegression\n",
    "import numpy as np\n",
    "from statistics import mean"
   ]
  },
  {
   "cell_type": "code",
   "execution_count": 2,
   "metadata": {},
   "outputs": [
    {
     "data": {
      "text/html": [
       "<div>\n",
       "<style scoped>\n",
       "    .dataframe tbody tr th:only-of-type {\n",
       "        vertical-align: middle;\n",
       "    }\n",
       "\n",
       "    .dataframe tbody tr th {\n",
       "        vertical-align: top;\n",
       "    }\n",
       "\n",
       "    .dataframe thead th {\n",
       "        text-align: right;\n",
       "    }\n",
       "</style>\n",
       "<table border=\"1\" class=\"dataframe\">\n",
       "  <thead>\n",
       "    <tr style=\"text-align: right;\">\n",
       "      <th></th>\n",
       "      <th>Brand Name</th>\n",
       "      <th>Owner</th>\n",
       "      <th>Female</th>\n",
       "      <th>POC</th>\n",
       "      <th>Year Founded</th>\n",
       "      <th>Product Types</th>\n",
       "      <th>Number of Products</th>\n",
       "      <th>Number of Clean</th>\n",
       "      <th>Percent Clean</th>\n",
       "    </tr>\n",
       "  </thead>\n",
       "  <tbody>\n",
       "    <tr>\n",
       "      <th>0</th>\n",
       "      <td>Acqua di Parma</td>\n",
       "      <td>Laura Burdese</td>\n",
       "      <td>True</td>\n",
       "      <td>False</td>\n",
       "      <td>1916</td>\n",
       "      <td>Fragrance, Bath &amp; Body</td>\n",
       "      <td>37</td>\n",
       "      <td>0</td>\n",
       "      <td>0.00</td>\n",
       "    </tr>\n",
       "    <tr>\n",
       "      <th>1</th>\n",
       "      <td>adwoa beauty</td>\n",
       "      <td>Julian Addo</td>\n",
       "      <td>True</td>\n",
       "      <td>True</td>\n",
       "      <td>2017</td>\n",
       "      <td>Hair</td>\n",
       "      <td>14</td>\n",
       "      <td>13</td>\n",
       "      <td>0.93</td>\n",
       "    </tr>\n",
       "    <tr>\n",
       "      <th>2</th>\n",
       "      <td>AERIN</td>\n",
       "      <td>Aerin Lauder</td>\n",
       "      <td>True</td>\n",
       "      <td>False</td>\n",
       "      <td>2012</td>\n",
       "      <td>Fragrance</td>\n",
       "      <td>19</td>\n",
       "      <td>0</td>\n",
       "      <td>0.00</td>\n",
       "    </tr>\n",
       "    <tr>\n",
       "      <th>3</th>\n",
       "      <td>Algenist</td>\n",
       "      <td>Harrison Dillon and Jonathan Wolfson</td>\n",
       "      <td>False</td>\n",
       "      <td>False</td>\n",
       "      <td>2011</td>\n",
       "      <td>Skincare,Bath &amp; Body, Makeup</td>\n",
       "      <td>38</td>\n",
       "      <td>0</td>\n",
       "      <td>0.00</td>\n",
       "    </tr>\n",
       "    <tr>\n",
       "      <th>4</th>\n",
       "      <td>Alpha-H</td>\n",
       "      <td>Michelle Doherty</td>\n",
       "      <td>True</td>\n",
       "      <td>False</td>\n",
       "      <td>1995</td>\n",
       "      <td>Skincare</td>\n",
       "      <td>10</td>\n",
       "      <td>0</td>\n",
       "      <td>0.00</td>\n",
       "    </tr>\n",
       "    <tr>\n",
       "      <th>...</th>\n",
       "      <td>...</td>\n",
       "      <td>...</td>\n",
       "      <td>...</td>\n",
       "      <td>...</td>\n",
       "      <td>...</td>\n",
       "      <td>...</td>\n",
       "      <td>...</td>\n",
       "      <td>...</td>\n",
       "      <td>...</td>\n",
       "    </tr>\n",
       "    <tr>\n",
       "      <th>300</th>\n",
       "      <td>Yves Saint Laurent</td>\n",
       "      <td>Yves Saint Laurent and Pierre Bergé</td>\n",
       "      <td>False</td>\n",
       "      <td>False</td>\n",
       "      <td>1961</td>\n",
       "      <td>Makeup, Skincare, Fragrance, Bath &amp; Body</td>\n",
       "      <td>69</td>\n",
       "      <td>0</td>\n",
       "      <td>0.00</td>\n",
       "    </tr>\n",
       "    <tr>\n",
       "      <th>301</th>\n",
       "      <td>19-69﻿NEW</td>\n",
       "      <td>Johan Bergelin</td>\n",
       "      <td>False</td>\n",
       "      <td>False</td>\n",
       "      <td>2017</td>\n",
       "      <td>Fragrance</td>\n",
       "      <td>14</td>\n",
       "      <td>0</td>\n",
       "      <td>0.00</td>\n",
       "    </tr>\n",
       "    <tr>\n",
       "      <th>302</th>\n",
       "      <td>54 Thrones</td>\n",
       "      <td>Christina Funke Tegbe</td>\n",
       "      <td>True</td>\n",
       "      <td>True</td>\n",
       "      <td>2016</td>\n",
       "      <td>Bath &amp; Body</td>\n",
       "      <td>3</td>\n",
       "      <td>3</td>\n",
       "      <td>1.00</td>\n",
       "    </tr>\n",
       "    <tr>\n",
       "      <th>303</th>\n",
       "      <td>The 7 Virtues</td>\n",
       "      <td>Barb Stegemann</td>\n",
       "      <td>True</td>\n",
       "      <td>False</td>\n",
       "      <td>2010</td>\n",
       "      <td>Fragrance, Bath &amp; Body</td>\n",
       "      <td>22</td>\n",
       "      <td>21</td>\n",
       "      <td>0.95</td>\n",
       "    </tr>\n",
       "    <tr>\n",
       "      <th>304</th>\n",
       "      <td>8Greens</td>\n",
       "      <td>Dawn Russell</td>\n",
       "      <td>True</td>\n",
       "      <td>False</td>\n",
       "      <td>2014</td>\n",
       "      <td>Skincare, Bath &amp; Body</td>\n",
       "      <td>2</td>\n",
       "      <td>0</td>\n",
       "      <td>0.00</td>\n",
       "    </tr>\n",
       "  </tbody>\n",
       "</table>\n",
       "<p>305 rows × 9 columns</p>\n",
       "</div>"
      ],
      "text/plain": [
       "             Brand Name                                 Owner  Female    POC  \\\n",
       "0        Acqua di Parma                         Laura Burdese    True  False   \n",
       "1          adwoa beauty                           Julian Addo    True   True   \n",
       "2                 AERIN                          Aerin Lauder    True  False   \n",
       "3              Algenist  Harrison Dillon and Jonathan Wolfson   False  False   \n",
       "4               Alpha-H                      Michelle Doherty    True  False   \n",
       "..                  ...                                   ...     ...    ...   \n",
       "300  Yves Saint Laurent   Yves Saint Laurent and Pierre Bergé   False  False   \n",
       "301           19-69﻿NEW                        Johan Bergelin   False  False   \n",
       "302          54 Thrones                 Christina Funke Tegbe    True   True   \n",
       "303       The 7 Virtues                        Barb Stegemann    True  False   \n",
       "304             8Greens                          Dawn Russell    True  False   \n",
       "\n",
       "     Year Founded                             Product Types  \\\n",
       "0            1916                    Fragrance, Bath & Body   \n",
       "1            2017                                      Hair   \n",
       "2            2012                                 Fragrance   \n",
       "3            2011              Skincare,Bath & Body, Makeup   \n",
       "4            1995                                  Skincare   \n",
       "..            ...                                       ...   \n",
       "300          1961  Makeup, Skincare, Fragrance, Bath & Body   \n",
       "301          2017                                 Fragrance   \n",
       "302          2016                               Bath & Body   \n",
       "303          2010                    Fragrance, Bath & Body   \n",
       "304          2014                     Skincare, Bath & Body   \n",
       "\n",
       "     Number of Products  Number of Clean  Percent Clean  \n",
       "0                    37                0           0.00  \n",
       "1                    14               13           0.93  \n",
       "2                    19                0           0.00  \n",
       "3                    38                0           0.00  \n",
       "4                    10                0           0.00  \n",
       "..                  ...              ...            ...  \n",
       "300                  69                0           0.00  \n",
       "301                  14                0           0.00  \n",
       "302                   3                3           1.00  \n",
       "303                  22               21           0.95  \n",
       "304                   2                0           0.00  \n",
       "\n",
       "[305 rows x 9 columns]"
      ]
     },
     "execution_count": 2,
     "metadata": {},
     "output_type": "execute_result"
    }
   ],
   "source": [
    "dfSephora = pd.read_csv(r'/Users/alison/Desktop/Sephora.csv')\n",
    "dfSephora"
   ]
  },
  {
   "cell_type": "code",
   "execution_count": 3,
   "metadata": {},
   "outputs": [
    {
     "name": "stdout",
     "output_type": "stream",
     "text": [
      "                      Female       POC  Year Founded  Number of Products  \\\n",
      "Female              1.000000  0.141335      0.346014           -0.074774   \n",
      "POC                 0.141335  1.000000      0.156449           -0.119221   \n",
      "Year Founded        0.346014  0.156449      1.000000           -0.211425   \n",
      "Number of Products -0.074774 -0.119221     -0.211425            1.000000   \n",
      "Number of Clean     0.119163 -0.046275      0.055164            0.243229   \n",
      "Percent Clean       0.180593  0.050739      0.196986           -0.212382   \n",
      "\n",
      "                    Number of Clean  Percent Clean  \n",
      "Female                     0.119163       0.180593  \n",
      "POC                       -0.046275       0.050739  \n",
      "Year Founded               0.055164       0.196986  \n",
      "Number of Products         0.243229      -0.212382  \n",
      "Number of Clean            1.000000       0.622169  \n",
      "Percent Clean              0.622169       1.000000  \n"
     ]
    },
    {
     "data": {
      "image/png": "[encoded data removed]",
      "text/plain": [
       "<Figure size 432x288 with 2 Axes>"
      ]
     },
     "metadata": {
      "needs_background": "light"
     },
     "output_type": "display_data"
    }
   ],
   "source": [
    "corrMatrix = dfSephora.corr()\n",
    "print(corrMatrix)\n",
    "sn.heatmap(corrMatrix, annot=True)\n",
    "plt.show()"
   ]
  },
  {
   "cell_type": "code",
   "execution_count": 4,
   "metadata": {},
   "outputs": [
    {
     "name": "stdout",
     "output_type": "stream",
     "text": [
      "Fem Count: 193\n",
      "POC Count: 67\n",
      "POC and Fem: 51\n"
     ]
    }
   ],
   "source": [
    "femCnt = 0\n",
    "pocCnt = 0\n",
    "femPOCcnt = 0\n",
    "\n",
    "for i in dfSephora.index:\n",
    "    if dfSephora['Female'][i] == True:\n",
    "        femCnt += 1\n",
    "    if dfSephora['POC'][i] == True:\n",
    "        pocCnt += 1\n",
    "    if dfSephora['Female'][i] == True and dfSephora['POC'][i] == True:\n",
    "        femPOCcnt += 1\n",
    "\n",
    "print('Fem Count:', femCnt)\n",
    "print('POC Count:', pocCnt)\n",
    "print('POC and Fem:', femPOCcnt)"
   ]
  },
  {
   "cell_type": "code",
   "execution_count": 5,
   "metadata": {},
   "outputs": [
    {
     "data": {
      "image/png": "[encoded data removed]",
      "text/plain": [
       "<Figure size 432x288 with 1 Axes>"
      ]
     },
     "metadata": {
      "needs_background": "light"
     },
     "output_type": "display_data"
    },
    {
     "data": {
      "image/png": "[encoded data removed]",
      "text/plain": [
       "<Figure size 432x288 with 1 Axes>"
      ]
     },
     "metadata": {
      "needs_background": "light"
     },
     "output_type": "display_data"
    },
    {
     "data": {
      "image/png": "[encoded data removed]",
      "text/plain": [
       "<Figure size 432x288 with 1 Axes>"
      ]
     },
     "metadata": {
      "needs_background": "light"
     },
     "output_type": "display_data"
    },
    {
     "data": {
      "image/png": "[encoded data removed]",
      "text/plain": [
       "<Figure size 432x288 with 1 Axes>"
      ]
     },
     "metadata": {
      "needs_background": "light"
     },
     "output_type": "display_data"
    },
    {
     "data": {
      "image/png": "[encoded data removed]",
      "text/plain": [
       "<Figure size 432x288 with 1 Axes>"
      ]
     },
     "metadata": {
      "needs_background": "light"
     },
     "output_type": "display_data"
    },
    {
     "data": {
      "image/png": "[encoded data removed]",
      "text/plain": [
       "<Figure size 432x288 with 1 Axes>"
      ]
     },
     "metadata": {
      "needs_background": "light"
     },
     "output_type": "display_data"
    },
    {
     "data": {
      "image/png": "[encoded data removed]",
      "text/plain": [
       "<Figure size 432x288 with 1 Axes>"
      ]
     },
     "metadata": {
      "needs_background": "light"
     },
     "output_type": "display_data"
    },
    {
     "data": {
      "image/png": "[encoded data removed]",
      "text/plain": [
       "<Figure size 432x288 with 1 Axes>"
      ]
     },
     "metadata": {
      "needs_background": "light"
     },
     "output_type": "display_data"
    },
    {
     "data": {
      "image/png": "[encoded data removed]",
      "text/plain": [
       "<Figure size 432x288 with 1 Axes>"
      ]
     },
     "metadata": {
      "needs_background": "light"
     },
     "output_type": "display_data"
    }
   ],
   "source": [
    "plt.hist(dfSephora['Number of Products'])\n",
    "plt.show()\n",
    "\n",
    "plt.hist(dfSephora['Number of Clean'])\n",
    "plt.show()\n",
    "\n",
    "plt.hist(dfSephora['Percent Clean'])\n",
    "plt.show()\n",
    "\n",
    "plt.boxplot(dfSephora['Number of Products'])\n",
    "plt.show()\n",
    "\n",
    "plt.boxplot(dfSephora['Number of Clean'])\n",
    "plt.show()\n",
    "\n",
    "plt.boxplot(dfSephora['Percent Clean'])\n",
    "plt.show()\n",
    "\n",
    "plt.scatter(dfSephora['Percent Clean'], dfSephora['Number of Clean'])\n",
    "plt.show()\n",
    "\n",
    "plt.scatter(dfSephora['Number of Products'], dfSephora['Number of Clean'])\n",
    "plt.show()\n",
    "\n",
    "plt.scatter(dfSephora['Year Founded'], dfSephora['Number of Products'])\n",
    "plt.show()\n"
   ]
  },
  {
   "cell_type": "code",
   "execution_count": 6,
   "metadata": {},
   "outputs": [
    {
     "name": "stdout",
     "output_type": "stream",
     "text": [
      "Estimated coefficients:\n",
      "b_0 = 2.505433716668233            \n",
      "b_1 = 0.0720303586501043\n"
     ]
    },
    {
     "data": {
      "image/png": "[encoded data removed]",
      "text/plain": [
       "<Figure size 432x288 with 1 Axes>"
      ]
     },
     "metadata": {
      "needs_background": "light"
     },
     "output_type": "display_data"
    },
    {
     "name": "stdout",
     "output_type": "stream",
     "text": [
      "\n",
      "0.059160497208358406\n",
      "\n"
     ]
    }
   ],
   "source": [
    "def estimate_coef(x, y):\n",
    "\t# number of observations/points\n",
    "\tn = np.size(x)\n",
    "\n",
    "\t# mean of x and y vector\n",
    "\tm_x = np.mean(x)\n",
    "\tm_y = np.mean(y)\n",
    "\n",
    "\t# calculating cross-deviation and deviation about x\n",
    "\tSS_xy = np.sum(y*x) - n*m_y*m_x\n",
    "\tSS_xx = np.sum(x*x) - n*m_x*m_x\n",
    "\n",
    "\t# calculating regression coefficients\n",
    "\tb_1 = SS_xy / SS_xx\n",
    "\tb_0 = m_y - b_1*m_x\n",
    "\n",
    "\treturn (b_0, b_1)\n",
    "\n",
    "def plot_regression_line(x, y, b):\n",
    "\t# plotting the actual points as scatter plot\n",
    "\tplt.scatter(x, y, color = \"m\",\n",
    "\t\t\tmarker = \"o\", s = 30)\n",
    "\n",
    "\t# predicted response vector\n",
    "\ty_pred = b[0] + b[1]*x\n",
    "\n",
    "\t# plotting the regression line\n",
    "\tplt.plot(x, y_pred, color = \"g\")\n",
    "\n",
    "\t# putting labels\n",
    "\tplt.xlabel('x')\n",
    "\tplt.ylabel('y')\n",
    "\n",
    "\t# function to show plot\n",
    "\tplt.show()\n",
    "\n",
    "x = dfSephora['Number of Products']\n",
    "y = dfSephora['Number of Clean']\n",
    "b = estimate_coef(x, y)\n",
    "print(\"Estimated coefficients:\\nb_0 = {}  \\\n",
    "          \\nb_1 = {}\".format(b[0], b[1]))\n",
    " \n",
    "# plotting regression line\n",
    "plot_regression_line(x, y, b)\n",
    "print()\n",
    "correlation_matrix = np.corrcoef(x, y)\n",
    "correlation_xy = correlation_matrix[0,1]\n",
    "r_squared = correlation_xy**2\n",
    "\n",
    "print(r_squared)\n",
    "print()"
   ]
  },
  {
   "cell_type": "code",
   "execution_count": 7,
   "metadata": {},
   "outputs": [
    {
     "name": "stdout",
     "output_type": "stream",
     "text": [
      "{'Fragrance': 76, 'Bath & Body': 140, 'Hair': 74, 'Skincare': 186, 'Makeup': 142, 'Tools & Brushes': 80}\n"
     ]
    }
   ],
   "source": [
    "productDict = {}\n",
    "for i in dfSephora.index:\n",
    "    product = [x.strip() for x in dfSephora['Product Types'][i].split(',')]\n",
    "    #product = dfSephora['Product Types'][i].split(',')\n",
    "    #print(product)\n",
    "    for item in product:\n",
    "        if item in productDict:\n",
    "            productDict[item] +=1\n",
    "        else:\n",
    "            productDict[item] =1\n",
    "\n",
    "print(productDict)"
   ]
  },
  {
   "cell_type": "code",
   "execution_count": 8,
   "metadata": {},
   "outputs": [
    {
     "name": "stdout",
     "output_type": "stream",
     "text": [
      "Mean number of products: 27.94\n",
      "Mean number of clean products: 4.52\n",
      "Mean percent of clean products: 0.27\n",
      "Mean of Year Founded: 1998.39\n"
     ]
    }
   ],
   "source": [
    "print('Mean number of products:', round(mean(dfSephora['Number of Products']),2))\n",
    "print('Mean number of clean products:', round(mean(dfSephora['Number of Clean']),2))\n",
    "print('Mean percent of clean products:', round(mean(dfSephora['Percent Clean']),2))\n",
    "print('Mean of Year Founded:', round(mean(dfSephora['Year Founded']),2))"
   ]
  },
  {
   "cell_type": "code",
   "execution_count": 9,
   "metadata": {},
   "outputs": [
    {
     "name": "stdout",
     "output_type": "stream",
     "text": [
      "\n",
      "Number of 1 owner: 234\n",
      "Number of 2 owners: 64\n",
      "Number of 3 owners: 4\n",
      "Number of 4 owners: 2\n"
     ]
    }
   ],
   "source": [
    "oneOwner = 0\n",
    "twoOwners = 0\n",
    "threeOwners = 0\n",
    "fourOwners = 0\n",
    "for i in dfSephora.index:\n",
    "\towner = dfSephora['Owner'][i]\n",
    "\tif 'and' in owner and ',' in owner:\n",
    "\t\tcommasCnt = owner.count(\",\")\n",
    "\t\tif commasCnt == 2:\n",
    "\t\t\tthreeOwners +=1\n",
    "\t\telif commasCnt == 3:\n",
    "\t\t\tfourOwners +=1\n",
    "\telif 'and' in owner:\n",
    "\t\ttwoOwners += 1\n",
    "\telse:\n",
    "\t\toneOwner += 1\n",
    "\n",
    "print()\n",
    "print('Number of 1 owner:', oneOwner)\n",
    "print('Number of 2 owners:', twoOwners)\n",
    "print('Number of 3 owners:', threeOwners)\n",
    "print('Number of 4 owners:', fourOwners)"
   ]
  },
  {
   "cell_type": "code",
   "execution_count": 10,
   "metadata": {},
   "outputs": [
    {
     "data": {
      "text/html": [
       "<div>\n",
       "<style scoped>\n",
       "    .dataframe tbody tr th:only-of-type {\n",
       "        vertical-align: middle;\n",
       "    }\n",
       "\n",
       "    .dataframe tbody tr th {\n",
       "        vertical-align: top;\n",
       "    }\n",
       "\n",
       "    .dataframe thead th {\n",
       "        text-align: right;\n",
       "    }\n",
       "</style>\n",
       "<table border=\"1\" class=\"dataframe\">\n",
       "  <thead>\n",
       "    <tr style=\"text-align: right;\">\n",
       "      <th></th>\n",
       "      <th>Brand Name</th>\n",
       "      <th>Owner</th>\n",
       "      <th>Female</th>\n",
       "      <th>POC</th>\n",
       "      <th>Year Founded</th>\n",
       "      <th>Product Types</th>\n",
       "      <th>Number of Products</th>\n",
       "      <th>Number of Clean</th>\n",
       "      <th>Percent Clean</th>\n",
       "      <th>Clean</th>\n",
       "    </tr>\n",
       "  </thead>\n",
       "  <tbody>\n",
       "    <tr>\n",
       "      <th>0</th>\n",
       "      <td>Acqua di Parma</td>\n",
       "      <td>Laura Burdese</td>\n",
       "      <td>True</td>\n",
       "      <td>False</td>\n",
       "      <td>1916</td>\n",
       "      <td>Fragrance, Bath &amp; Body</td>\n",
       "      <td>37</td>\n",
       "      <td>0</td>\n",
       "      <td>0.00</td>\n",
       "      <td>False</td>\n",
       "    </tr>\n",
       "    <tr>\n",
       "      <th>1</th>\n",
       "      <td>adwoa beauty</td>\n",
       "      <td>Julian Addo</td>\n",
       "      <td>True</td>\n",
       "      <td>True</td>\n",
       "      <td>2017</td>\n",
       "      <td>Hair</td>\n",
       "      <td>14</td>\n",
       "      <td>13</td>\n",
       "      <td>0.93</td>\n",
       "      <td>True</td>\n",
       "    </tr>\n",
       "    <tr>\n",
       "      <th>2</th>\n",
       "      <td>AERIN</td>\n",
       "      <td>Aerin Lauder</td>\n",
       "      <td>True</td>\n",
       "      <td>False</td>\n",
       "      <td>2012</td>\n",
       "      <td>Fragrance</td>\n",
       "      <td>19</td>\n",
       "      <td>0</td>\n",
       "      <td>0.00</td>\n",
       "      <td>False</td>\n",
       "    </tr>\n",
       "    <tr>\n",
       "      <th>3</th>\n",
       "      <td>Algenist</td>\n",
       "      <td>Harrison Dillon and Jonathan Wolfson</td>\n",
       "      <td>False</td>\n",
       "      <td>False</td>\n",
       "      <td>2011</td>\n",
       "      <td>Skincare,Bath &amp; Body, Makeup</td>\n",
       "      <td>38</td>\n",
       "      <td>0</td>\n",
       "      <td>0.00</td>\n",
       "      <td>False</td>\n",
       "    </tr>\n",
       "    <tr>\n",
       "      <th>4</th>\n",
       "      <td>Alpha-H</td>\n",
       "      <td>Michelle Doherty</td>\n",
       "      <td>True</td>\n",
       "      <td>False</td>\n",
       "      <td>1995</td>\n",
       "      <td>Skincare</td>\n",
       "      <td>10</td>\n",
       "      <td>0</td>\n",
       "      <td>0.00</td>\n",
       "      <td>False</td>\n",
       "    </tr>\n",
       "    <tr>\n",
       "      <th>...</th>\n",
       "      <td>...</td>\n",
       "      <td>...</td>\n",
       "      <td>...</td>\n",
       "      <td>...</td>\n",
       "      <td>...</td>\n",
       "      <td>...</td>\n",
       "      <td>...</td>\n",
       "      <td>...</td>\n",
       "      <td>...</td>\n",
       "      <td>...</td>\n",
       "    </tr>\n",
       "    <tr>\n",
       "      <th>300</th>\n",
       "      <td>Yves Saint Laurent</td>\n",
       "      <td>Yves Saint Laurent and Pierre Bergé</td>\n",
       "      <td>False</td>\n",
       "      <td>False</td>\n",
       "      <td>1961</td>\n",
       "      <td>Makeup, Skincare, Fragrance, Bath &amp; Body</td>\n",
       "      <td>69</td>\n",
       "      <td>0</td>\n",
       "      <td>0.00</td>\n",
       "      <td>False</td>\n",
       "    </tr>\n",
       "    <tr>\n",
       "      <th>301</th>\n",
       "      <td>19-69﻿NEW</td>\n",
       "      <td>Johan Bergelin</td>\n",
       "      <td>False</td>\n",
       "      <td>False</td>\n",
       "      <td>2017</td>\n",
       "      <td>Fragrance</td>\n",
       "      <td>14</td>\n",
       "      <td>0</td>\n",
       "      <td>0.00</td>\n",
       "      <td>False</td>\n",
       "    </tr>\n",
       "    <tr>\n",
       "      <th>302</th>\n",
       "      <td>54 Thrones</td>\n",
       "      <td>Christina Funke Tegbe</td>\n",
       "      <td>True</td>\n",
       "      <td>True</td>\n",
       "      <td>2016</td>\n",
       "      <td>Bath &amp; Body</td>\n",
       "      <td>3</td>\n",
       "      <td>3</td>\n",
       "      <td>1.00</td>\n",
       "      <td>True</td>\n",
       "    </tr>\n",
       "    <tr>\n",
       "      <th>303</th>\n",
       "      <td>The 7 Virtues</td>\n",
       "      <td>Barb Stegemann</td>\n",
       "      <td>True</td>\n",
       "      <td>False</td>\n",
       "      <td>2010</td>\n",
       "      <td>Fragrance, Bath &amp; Body</td>\n",
       "      <td>22</td>\n",
       "      <td>21</td>\n",
       "      <td>0.95</td>\n",
       "      <td>True</td>\n",
       "    </tr>\n",
       "    <tr>\n",
       "      <th>304</th>\n",
       "      <td>8Greens</td>\n",
       "      <td>Dawn Russell</td>\n",
       "      <td>True</td>\n",
       "      <td>False</td>\n",
       "      <td>2014</td>\n",
       "      <td>Skincare, Bath &amp; Body</td>\n",
       "      <td>2</td>\n",
       "      <td>0</td>\n",
       "      <td>0.00</td>\n",
       "      <td>False</td>\n",
       "    </tr>\n",
       "  </tbody>\n",
       "</table>\n",
       "<p>305 rows × 10 columns</p>\n",
       "</div>"
      ],
      "text/plain": [
       "             Brand Name                                 Owner  Female    POC  \\\n",
       "0        Acqua di Parma                         Laura Burdese    True  False   \n",
       "1          adwoa beauty                           Julian Addo    True   True   \n",
       "2                 AERIN                          Aerin Lauder    True  False   \n",
       "3              Algenist  Harrison Dillon and Jonathan Wolfson   False  False   \n",
       "4               Alpha-H                      Michelle Doherty    True  False   \n",
       "..                  ...                                   ...     ...    ...   \n",
       "300  Yves Saint Laurent   Yves Saint Laurent and Pierre Bergé   False  False   \n",
       "301           19-69﻿NEW                        Johan Bergelin   False  False   \n",
       "302          54 Thrones                 Christina Funke Tegbe    True   True   \n",
       "303       The 7 Virtues                        Barb Stegemann    True  False   \n",
       "304             8Greens                          Dawn Russell    True  False   \n",
       "\n",
       "     Year Founded                             Product Types  \\\n",
       "0            1916                    Fragrance, Bath & Body   \n",
       "1            2017                                      Hair   \n",
       "2            2012                                 Fragrance   \n",
       "3            2011              Skincare,Bath & Body, Makeup   \n",
       "4            1995                                  Skincare   \n",
       "..            ...                                       ...   \n",
       "300          1961  Makeup, Skincare, Fragrance, Bath & Body   \n",
       "301          2017                                 Fragrance   \n",
       "302          2016                               Bath & Body   \n",
       "303          2010                    Fragrance, Bath & Body   \n",
       "304          2014                     Skincare, Bath & Body   \n",
       "\n",
       "     Number of Products  Number of Clean  Percent Clean  Clean  \n",
       "0                    37                0           0.00  False  \n",
       "1                    14               13           0.93   True  \n",
       "2                    19                0           0.00  False  \n",
       "3                    38                0           0.00  False  \n",
       "4                    10                0           0.00  False  \n",
       "..                  ...              ...            ...    ...  \n",
       "300                  69                0           0.00  False  \n",
       "301                  14                0           0.00  False  \n",
       "302                   3                3           1.00   True  \n",
       "303                  22               21           0.95   True  \n",
       "304                   2                0           0.00  False  \n",
       "\n",
       "[305 rows x 10 columns]"
      ]
     },
     "execution_count": 10,
     "metadata": {},
     "output_type": "execute_result"
    }
   ],
   "source": [
    "cleanList = []\n",
    "\n",
    "for i in dfSephora.index:\n",
    "    if dfSephora['Number of Clean'][i] > 0:\n",
    "        cleanList.append(True)\n",
    "    else:\n",
    "        cleanList.append(False)\n",
    "\n",
    "dfSephora['Clean'] = cleanList\n",
    "dfSephora"
   ]
  },
  {
   "cell_type": "code",
   "execution_count": 11,
   "metadata": {},
   "outputs": [
    {
     "name": "stdout",
     "output_type": "stream",
     "text": [
      "                      Female       POC  Year Founded  Number of Products  \\\n",
      "Female              1.000000  0.141335      0.346014           -0.074774   \n",
      "POC                 0.141335  1.000000      0.156449           -0.119221   \n",
      "Year Founded        0.346014  0.156449      1.000000           -0.211425   \n",
      "Number of Products -0.074774 -0.119221     -0.211425            1.000000   \n",
      "Number of Clean     0.119163 -0.046275      0.055164            0.243229   \n",
      "Percent Clean       0.180593  0.050739      0.196986           -0.212382   \n",
      "Clean               0.140493  0.028768      0.081528           -0.087248   \n",
      "\n",
      "                    Number of Clean  Percent Clean     Clean  \n",
      "Female                     0.119163       0.180593  0.140493  \n",
      "POC                       -0.046275       0.050739  0.028768  \n",
      "Year Founded               0.055164       0.196986  0.081528  \n",
      "Number of Products         0.243229      -0.212382 -0.087248  \n",
      "Number of Clean            1.000000       0.622169  0.669930  \n",
      "Percent Clean              0.622169       1.000000  0.938499  \n",
      "Clean                      0.669930       0.938499  1.000000  \n"
     ]
    },
    {
     "data": {
      "image/png": "[encoded data removed]",
      "text/plain": [
       "<Figure size 432x288 with 2 Axes>"
      ]
     },
     "metadata": {
      "needs_background": "light"
     },
     "output_type": "display_data"
    }
   ],
   "source": [
    "corrMatrix = dfSephora.corr()\n",
    "print(corrMatrix)\n",
    "sn.heatmap(corrMatrix, annot=True)\n",
    "plt.show()"
   ]
  },
  {
   "cell_type": "code",
   "execution_count": 14,
   "metadata": {},
   "outputs": [
    {
     "name": "stdout",
     "output_type": "stream",
     "text": [
      "97\n",
      "207\n"
     ]
    }
   ],
   "source": [
    "cntClean = 0\n",
    "\n",
    "for i in cleanList:\n",
    "    if i == True:\n",
    "        cntClean +=1\n",
    "        \n",
    "print(cntClean)\n",
    "print(304 - cntClean)"
   ]
  },
  {
   "cell_type": "code",
   "execution_count": 36,
   "metadata": {},
   "outputs": [],
   "source": [
    "from sklearn.tree import DecisionTreeClassifier # Import Decision Tree Classifier\n",
    "from sklearn.model_selection import train_test_split # Import train_test_split function\n",
    "from sklearn import metrics #Import scikit-learn metrics module for accuracy calculation\n",
    "\n",
    "#split dataset in features and target variable\n",
    "feature_cols = ['Female', 'POC', 'Year Founded', 'Number of Products', 'Clean']\n",
    "X = dfSephora[feature_cols] # Features\n",
    "y = dfSephora.Clean # Target variable\n"
   ]
  },
  {
   "cell_type": "code",
   "execution_count": 37,
   "metadata": {},
   "outputs": [],
   "source": [
    "X_train, X_test, y_train, y_test = train_test_split(X, y, test_size=0.3, random_state=1) # 70% training and 30% test"
   ]
  },
  {
   "cell_type": "code",
   "execution_count": 38,
   "metadata": {},
   "outputs": [],
   "source": [
    "# Create Decision Tree classifer object\n",
    "clf = DecisionTreeClassifier()\n",
    "\n",
    "# Train Decision Tree Classifer\n",
    "clf = clf.fit(X_train,y_train)\n",
    "\n",
    "#Predict the response for test dataset\n",
    "y_pred = clf.predict(X_test)"
   ]
  },
  {
   "cell_type": "code",
   "execution_count": 39,
   "metadata": {},
   "outputs": [
    {
     "name": "stdout",
     "output_type": "stream",
     "text": [
      "Accuracy: 1.0\n"
     ]
    }
   ],
   "source": [
    "print(\"Accuracy:\",metrics.accuracy_score(y_test, y_pred))"
   ]
  },
  {
   "cell_type": "code",
   "execution_count": 41,
   "metadata": {
    "scrolled": true
   },
   "outputs": [
    {
     "data": {
      "image/png": "[encoded data removed]",
      "text/plain": [
       "<IPython.core.display.Image object>"
      ]
     },
     "execution_count": 41,
     "metadata": {},
     "output_type": "execute_result"
    }
   ],
   "source": [
    "from sklearn.tree import export_graphviz\n",
    "from six import StringIO\n",
    "from IPython.display import Image  \n",
    "import pydotplus\n",
    "\n",
    "dot_data = StringIO()\n",
    "export_graphviz(clf, out_file=dot_data,  \n",
    "                filled=True, rounded=True,\n",
    "                special_characters=True,feature_names = feature_cols,class_names=['0','1'])\n",
    "graph = pydotplus.graph_from_dot_data(dot_data.getvalue())  \n",
    "\n",
    "Image(graph.create_png())"
   ]
  },
  {
   "cell_type": "code",
   "execution_count": 46,
   "metadata": {},
   "outputs": [
    {
     "name": "stdout",
     "output_type": "stream",
     "text": [
      "Estimated coefficients:\n",
      "b_0 = 0.35207751100611845            \n",
      "b_1 = -0.0012184511683719932\n"
     ]
    },
    {
     "data": {
      "image/png": "[encoded data removed]",
      "text/plain": [
       "<Figure size 432x288 with 1 Axes>"
      ]
     },
     "metadata": {
      "needs_background": "light"
     },
     "output_type": "display_data"
    },
    {
     "name": "stdout",
     "output_type": "stream",
     "text": [
      "\n",
      "0.0076122398553787425\n",
      "\n"
     ]
    }
   ],
   "source": [
    "y = dfSephora['Clean']\n",
    "x = dfSephora['Number of Products']\n",
    "b = estimate_coef(x, y)\n",
    "print(\"Estimated coefficients:\\nb_0 = {}  \\\n",
    "          \\nb_1 = {}\".format(b[0], b[1]))\n",
    " \n",
    "# plotting regression line\n",
    "plot_regression_line(x, y, b)\n",
    "print()\n",
    "correlation_matrix = np.corrcoef(x, y)\n",
    "correlation_xy = correlation_matrix[0,1]\n",
    "r_squared = correlation_xy**2\n",
    "\n",
    "print(r_squared)\n",
    "print()"
   ]
  },
  {
   "cell_type": "code",
   "execution_count": null,
   "metadata": {},
   "outputs": [],
   "source": []
  }
 ],
 "metadata": {
  "kernelspec": {
   "display_name": "Python 3",
   "language": "python",
   "name": "python3"
  },
  "language_info": {
   "codemirror_mode": {
    "name": "ipython",
    "version": 3
   },
   "file_extension": ".py",
   "mimetype": "text/x-python",
   "name": "python",
   "nbconvert_exporter": "python",
   "pygments_lexer": "ipython3",
   "version": "3.8.5"
  }
 },
 "nbformat": 4,
 "nbformat_minor": 4
}
